{
  "nbformat": 4,
  "nbformat_minor": 0,
  "metadata": {
    "colab": {
      "provenance": []
    },
    "kernelspec": {
      "name": "python3",
      "display_name": "Python 3"
    },
    "language_info": {
      "name": "python"
    }
  },
  "cells": [
    {
      "cell_type": "markdown",
      "source": [
        "Importing Dependencies"
      ],
      "metadata": {
        "id": "JYZiaoXTAWLZ"
      }
    },
    {
      "cell_type": "code",
      "source": [
        "import pandas as pd\n",
        "import numpy as np\n",
        "import lightgbm as lgb\n",
        "from sklearn.model_selection import KFold\n",
        "from sklearn.preprocessing import LabelEncoder\n",
        "from sklearn.metrics import r2_score\n",
        "import warnings\n",
        "warnings.filterwarnings('ignore')"
      ],
      "metadata": {
        "id": "Aai0CvKwxle1"
      },
      "execution_count": 66,
      "outputs": []
    },
    {
      "cell_type": "code",
      "source": [
        "# 1. Load dataset\n",
        "df = pd.read_csv('train.csv')"
      ],
      "metadata": {
        "id": "Bdg6zae8_Whp"
      },
      "execution_count": 67,
      "outputs": []
    },
    {
      "cell_type": "code",
      "source": [
        "# 2. Drop irrelevant columns\n",
        "df = df.drop('ID', axis=1)"
      ],
      "metadata": {
        "id": "C27CL3R4_XaY"
      },
      "execution_count": 68,
      "outputs": []
    },
    {
      "cell_type": "code",
      "source": [
        "# 3. Separate features and target\n",
        "target = 'carbon_footprint'\n",
        "X = df.drop(target, axis=1)\n",
        "y = df[target]"
      ],
      "metadata": {
        "id": "v89-ZZDA_bRk"
      },
      "execution_count": 69,
      "outputs": []
    },
    {
      "cell_type": "code",
      "source": [
        "# 4. Label Encoding for categorical features\n",
        "cat_features = ['heating_type', 'diet_type']\n",
        "for col in cat_features:\n",
        "    lbl = LabelEncoder()\n",
        "    X[col] = lbl.fit_transform(X[col].astype(str))"
      ],
      "metadata": {
        "id": "azvvgQ-I_SPJ"
      },
      "execution_count": 70,
      "outputs": []
    },
    {
      "cell_type": "code",
      "source": [
        "# 5. Convert all other columns to numeric\n",
        "for col in X.columns:\n",
        "    if col not in cat_features:\n",
        "        X[col] = pd.to_numeric(X[col], errors='coerce')"
      ],
      "metadata": {
        "id": "SU3zVuby_P6k"
      },
      "execution_count": 71,
      "outputs": []
    },
    {
      "cell_type": "code",
      "source": [
        "# 6. Fill missing values with 0\n",
        "X.fillna(0, inplace=True)"
      ],
      "metadata": {
        "id": "11SpZFMp_KJn"
      },
      "execution_count": 72,
      "outputs": []
    },
    {
      "cell_type": "code",
      "source": [
        "# 7. Set LightGBM parameters\n",
        "lgb_params = {\n",
        "    'objective': 'regression',\n",
        "    'metric': 'rmse',\n",
        "    'boosting_type': 'gbdt',\n",
        "    'learning_rate': 0.01,\n",
        "    'num_leaves': 31,\n",
        "    'feature_fraction': 0.9,\n",
        "    'bagging_fraction': 0.8,\n",
        "    'bagging_freq': 5,\n",
        "    'verbose': -1\n",
        "}"
      ],
      "metadata": {
        "id": "XnkwWOOi_DR2"
      },
      "execution_count": 73,
      "outputs": []
    },
    {
      "cell_type": "code",
      "source": [
        "# 8. KFold Cross Validation\n",
        "kf = KFold(n_splits=5, shuffle=True, random_state=42)\n",
        "r2_scores = []\n",
        "\n",
        "for fold, (train_idx, val_idx) in enumerate(kf.split(X, y), start=1):\n",
        "    X_train, X_val = X.iloc[train_idx], X.iloc[val_idx]\n",
        "    y_train, y_val = y.iloc[train_idx], y.iloc[val_idx]\n",
        "\n",
        "    model = lgb.LGBMRegressor(**lgb_params, n_estimators=10000)\n",
        "    model.fit(\n",
        "        X_train, y_train,\n",
        "        eval_set=[(X_val, y_val)],\n",
        "        callbacks=[lgb.early_stopping(100), lgb.log_evaluation(period=0)]\n",
        "    )\n",
        "\n",
        "    y_pred = model.predict(X_val, num_iteration=model.best_iteration_)\n",
        "\n",
        "    # Calculate normal R² and Challenge Score\n",
        "    r2 = r2_score(y_val, y_pred)\n",
        "    r2_scores.append(r2)\n",
        "\n",
        "    challenge_score = max(0, 100 * r2)\n",
        "    print(f\"Fold {fold} R² Score: {r2:.4f} | Challenge Score: {challenge_score:.2f}\")"
      ],
      "metadata": {
        "colab": {
          "base_uri": "https://localhost:8080/"
        },
        "id": "N6gNrA1K-yim",
        "outputId": "2d0c46b8-8a3f-4182-b747-96efd36bbc6e"
      },
      "execution_count": 74,
      "outputs": [
        {
          "output_type": "stream",
          "name": "stdout",
          "text": [
            "Training until validation scores don't improve for 100 rounds\n",
            "Early stopping, best iteration is:\n",
            "[1839]\tvalid_0's rmse: 58.0896\n",
            "Fold 1 R² Score: 0.9082 | Challenge Score: 90.82\n",
            "Training until validation scores don't improve for 100 rounds\n",
            "Early stopping, best iteration is:\n",
            "[1546]\tvalid_0's rmse: 59.2548\n",
            "Fold 2 R² Score: 0.9037 | Challenge Score: 90.37\n",
            "Training until validation scores don't improve for 100 rounds\n",
            "Early stopping, best iteration is:\n",
            "[1391]\tvalid_0's rmse: 67.5807\n",
            "Fold 3 R² Score: 0.8711 | Challenge Score: 87.11\n",
            "Training until validation scores don't improve for 100 rounds\n",
            "Early stopping, best iteration is:\n",
            "[1294]\tvalid_0's rmse: 63.3158\n",
            "Fold 4 R² Score: 0.8879 | Challenge Score: 88.79\n",
            "Training until validation scores don't improve for 100 rounds\n",
            "Early stopping, best iteration is:\n",
            "[1262]\tvalid_0's rmse: 60.5513\n",
            "Fold 5 R² Score: 0.9005 | Challenge Score: 90.05\n"
          ]
        }
      ]
    },
    {
      "cell_type": "code",
      "source": [
        "average_challenge_score = max(0, 100 * np.mean(r2_scores))\n",
        "print(f\"\\nAverage Challenge Score: {average_challenge_score:.2f}\")"
      ],
      "metadata": {
        "colab": {
          "base_uri": "https://localhost:8080/"
        },
        "id": "KxW-D4i3-qYp",
        "outputId": "f0a6213e-1c8a-4cd2-b610-9c98da5cd6a7"
      },
      "execution_count": 75,
      "outputs": [
        {
          "output_type": "stream",
          "name": "stdout",
          "text": [
            "\n",
            "Average Challenge Score: 89.43\n"
          ]
        }
      ]
    },
    {
      "cell_type": "code",
      "source": [
        "#Load test set into a dataframe\n",
        "test_df = pd.read_csv('test.csv')"
      ],
      "metadata": {
        "id": "Di54iy0e0K_a"
      },
      "execution_count": 76,
      "outputs": []
    },
    {
      "cell_type": "code",
      "source": [
        "#Consider feature set of test set\n",
        "X_test = test_df.drop(['ID'], axis=1)"
      ],
      "metadata": {
        "id": "xUB-B-k10P3-"
      },
      "execution_count": 77,
      "outputs": []
    },
    {
      "cell_type": "code",
      "source": [
        "from sklearn.preprocessing import LabelEncoder\n",
        "\n",
        "le = LabelEncoder()\n",
        "\n",
        "# Apply label encoding\n",
        "X_test['household_size'] = le.fit_transform(X_test['household_size'])\n",
        "X_test['heating_type'] = le.fit_transform(X_test['heating_type'])\n",
        "X_test['diet_type'] = le.fit_transform(X_test['diet_type'])\n"
      ],
      "metadata": {
        "id": "svdgyMFL0YN2"
      },
      "execution_count": 78,
      "outputs": []
    },
    {
      "cell_type": "code",
      "source": [
        "X_test['house_area_sqft'] = pd.to_numeric(X_test['house_area_sqft'], errors='coerce')\n"
      ],
      "metadata": {
        "id": "MQ5Mdxmk1RwS"
      },
      "execution_count": 79,
      "outputs": []
    },
    {
      "cell_type": "code",
      "source": [
        "X_test = X_test.astype({'house_area_sqft': 'float', 'household_size': 'float', 'heating_type': 'int', 'diet_type': 'int'})\n"
      ],
      "metadata": {
        "id": "280PV90J1WPE"
      },
      "execution_count": 55,
      "outputs": []
    },
    {
      "cell_type": "code",
      "source": [
        "predictions = model.predict(X_test, num_iteration=model.best_iteration_)\n"
      ],
      "metadata": {
        "id": "FA1G1ggS1YiT"
      },
      "execution_count": 80,
      "outputs": []
    },
    {
      "cell_type": "markdown",
      "source": [
        "Create a submission.csv file for predicted results on test data"
      ],
      "metadata": {
        "id": "kX6oA2tCBHiA"
      }
    },
    {
      "cell_type": "code",
      "source": [
        "submission = pd.DataFrame({\n",
        "    'ID': test_df['ID'],\n",
        "    'carbon_footprint': predictions\n",
        "})"
      ],
      "metadata": {
        "id": "YprQRPR412Aj"
      },
      "execution_count": 81,
      "outputs": []
    },
    {
      "cell_type": "code",
      "source": [
        "submission.to_csv('submission.csv', index=False)\n"
      ],
      "metadata": {
        "id": "TY4ALhry24kw"
      },
      "execution_count": 82,
      "outputs": []
    }
  ]
}